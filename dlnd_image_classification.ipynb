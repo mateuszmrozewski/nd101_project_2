{
 "cells": [
  {
   "cell_type": "markdown",
   "metadata": {
    "collapsed": true
   },
   "source": [
    "# Image Classification\n",
    "In this project, you'll classify images from the [CIFAR-10 dataset](https://www.cs.toronto.edu/~kriz/cifar.html).  The dataset consists of airplanes, dogs, cats, and other objects. You'll preprocess the images, then train a convolutional neural network on all the samples. The images need to be normalized and the labels need to be one-hot encoded.  You'll get to apply what you learned and build a convolutional, max pooling, dropout, and fully connected layers.  At the end, you'll get to see your neural network's predictions on the sample images.\n",
    "## Get the Data\n",
    "Run the following cell to download the [CIFAR-10 dataset for python](https://www.cs.toronto.edu/~kriz/cifar-10-python.tar.gz)."
   ]
  },
  {
   "cell_type": "code",
   "execution_count": 1,
   "metadata": {
    "collapsed": false
   },
   "outputs": [
    {
     "name": "stdout",
     "output_type": "stream",
     "text": [
      "All files found!\n"
     ]
    }
   ],
   "source": [
    "\"\"\"\n",
    "DON'T MODIFY ANYTHING IN THIS CELL THAT IS BELOW THIS LINE\n",
    "\"\"\"\n",
    "from urllib.request import urlretrieve\n",
    "from os.path import isfile, isdir\n",
    "from tqdm import tqdm\n",
    "import problem_unittests as tests\n",
    "import tarfile\n",
    "\n",
    "cifar10_dataset_folder_path = 'cifar-10-batches-py'\n",
    "\n",
    "# Use Floyd's cifar-10 dataset if present\n",
    "floyd_cifar10_location = '/input/cifar-10/python.tar.gz'\n",
    "if isfile(floyd_cifar10_location):\n",
    "    tar_gz_path = floyd_cifar10_location\n",
    "else:\n",
    "    tar_gz_path = 'cifar-10-python.tar.gz'\n",
    "\n",
    "class DLProgress(tqdm):\n",
    "    last_block = 0\n",
    "\n",
    "    def hook(self, block_num=1, block_size=1, total_size=None):\n",
    "        self.total = total_size\n",
    "        self.update((block_num - self.last_block) * block_size)\n",
    "        self.last_block = block_num\n",
    "\n",
    "if not isfile(tar_gz_path):\n",
    "    with DLProgress(unit='B', unit_scale=True, miniters=1, desc='CIFAR-10 Dataset') as pbar:\n",
    "        urlretrieve(\n",
    "            'https://www.cs.toronto.edu/~kriz/cifar-10-python.tar.gz',\n",
    "            tar_gz_path,\n",
    "            pbar.hook)\n",
    "\n",
    "if not isdir(cifar10_dataset_folder_path):\n",
    "    with tarfile.open(tar_gz_path) as tar:\n",
    "        tar.extractall()\n",
    "        tar.close()\n",
    "\n",
    "\n",
    "tests.test_folder_path(cifar10_dataset_folder_path)"
   ]
  },
  {
   "cell_type": "markdown",
   "metadata": {},
   "source": [
    "## Explore the Data\n",
    "The dataset is broken into batches to prevent your machine from running out of memory.  The CIFAR-10 dataset consists of 5 batches, named `data_batch_1`, `data_batch_2`, etc.. Each batch contains the labels and images that are one of the following:\n",
    "* airplane\n",
    "* automobile\n",
    "* bird\n",
    "* cat\n",
    "* deer\n",
    "* dog\n",
    "* frog\n",
    "* horse\n",
    "* ship\n",
    "* truck\n",
    "\n",
    "Understanding a dataset is part of making predictions on the data.  Play around with the code cell below by changing the `batch_id` and `sample_id`. The `batch_id` is the id for a batch (1-5). The `sample_id` is the id for a image and label pair in the batch.\n",
    "\n",
    "Ask yourself \"What are all possible labels?\", \"What is the range of values for the image data?\", \"Are the labels in order or random?\".  Answers to questions like these will help you preprocess the data and end up with better predictions."
   ]
  },
  {
   "cell_type": "code",
   "execution_count": 2,
   "metadata": {
    "collapsed": false
   },
   "outputs": [
    {
     "name": "stdout",
     "output_type": "stream",
     "text": [
      "\n",
      "Stats of batch 2:\n",
      "Samples: 10000\n",
      "Label Counts: {0: 984, 1: 1007, 2: 1010, 3: 995, 4: 1010, 5: 988, 6: 1008, 7: 1026, 8: 987, 9: 985}\n",
      "First 20 Labels: [1, 6, 6, 8, 8, 3, 4, 6, 0, 6, 0, 3, 6, 6, 5, 4, 8, 3, 2, 6]\n",
      "\n",
      "Example of Image 15:\n",
      "Image - Min Value: 1 Max Value: 225\n",
      "Image - Shape: (32, 32, 3)\n",
      "Label - Label Id: 4 Name: deer\n"
     ]
    },
    {
     "data": {
      "image/png": "[encoded data removed]",
      "text/plain": [
       "<matplotlib.figure.Figure at 0x10aa01518>"
      ]
     },
     "metadata": {
      "image/png": {
       "height": 250,
       "width": 253
      }
     },
     "output_type": "display_data"
    }
   ],
   "source": [
    "%matplotlib inline\n",
    "%config InlineBackend.figure_format = 'retina'\n",
    "\n",
    "import helper\n",
    "import numpy as np\n",
    "\n",
    "# Explore the dataset\n",
    "batch_id = 2\n",
    "sample_id = 15\n",
    "helper.display_stats(cifar10_dataset_folder_path, batch_id, sample_id)"
   ]
  },
  {
   "cell_type": "markdown",
   "metadata": {},
   "source": [
    "## Implement Preprocess Functions\n",
    "### Normalize\n",
    "In the cell below, implement the `normalize` function to take in image data, `x`, and return it as a normalized Numpy array. The values should be in the range of 0 to 1, inclusive.  The return object should be the same shape as `x`."
   ]
  },
  {
   "cell_type": "code",
   "execution_count": 19,
   "metadata": {
    "collapsed": false
   },
   "outputs": [
    {
     "name": "stdout",
     "output_type": "stream",
     "text": [
      "Tests Passed\n"
     ]
    }
   ],
   "source": [
    "def normalize(x):\n",
    "    \"\"\"\n",
    "    Normalize a list of sample image data in the range of 0 to 1\n",
    "    : x: List of image data.  The image shape is (32, 32, 3)\n",
    "    : return: Numpy array of normalize data\n",
    "    \"\"\"\n",
    "    # TODO: Implement Function\n",
    "    return x/255\n",
    "\n",
    "\n",
    "\"\"\"\n",
    "DON'T MODIFY ANYTHING IN THIS CELL THAT IS BELOW THIS LINE\n",
    "\"\"\"\n",
    "tests.test_normalize(normalize)"
   ]
  },
  {
   "cell_type": "markdown",
   "metadata": {},
   "source": [
    "### One-hot encode\n",
    "Just like the previous code cell, you'll be implementing a function for preprocessing.  This time, you'll implement the `one_hot_encode` function. The input, `x`, are a list of labels.  Implement the function to return the list of labels as One-Hot encoded Numpy array.  The possible values for labels are 0 to 9. The one-hot encoding function should return the same encoding for each value between each call to `one_hot_encode`.  Make sure to save the map of encodings outside the function.\n",
    "\n",
    "Hint: Don't reinvent the wheel."
   ]
  },
  {
   "cell_type": "code",
   "execution_count": 22,
   "metadata": {
    "collapsed": false
   },
   "outputs": [
    {
     "name": "stdout",
     "output_type": "stream",
     "text": [
      "Tests Passed\n"
     ]
    }
   ],
   "source": [
    "def one_hot_encode(x):\n",
    "    \"\"\"\n",
    "    One hot encode a list of sample labels. Return a one-hot encoded vector for each label.\n",
    "    : x: List of sample Labels\n",
    "    : return: Numpy array of one-hot encoded labels\n",
    "    \"\"\"\n",
    "    # TODO: Implement Function\n",
    "    return np.eye(10)[x]\n",
    "\n",
    "\"\"\"\n",
    "DON'T MODIFY ANYTHING IN THIS CELL THAT IS BELOW THIS LINE\n",
    "\"\"\"\n",
    "tests.test_one_hot_encode(one_hot_encode)"
   ]
  },
  {
   "cell_type": "markdown",
   "metadata": {},
   "source": [
    "### Randomize Data\n",
    "As you saw from exploring the data above, the order of the samples are randomized.  It doesn't hurt to randomize it again, but you don't need to for this dataset."
   ]
  },
  {
   "cell_type": "markdown",
   "metadata": {},
   "source": [
    "## Preprocess all the data and save it\n",
    "Running the code cell below will preprocess all the CIFAR-10 data and save it to file. The code below also uses 10% of the training data for validation."
   ]
  },
  {
   "cell_type": "code",
   "execution_count": 5,
   "metadata": {
    "collapsed": false
   },
   "outputs": [],
   "source": [
    "\"\"\"\n",
    "DON'T MODIFY ANYTHING IN THIS CELL\n",
    "\"\"\"\n",
    "# Preprocess Training, Validation, and Testing Data\n",
    "helper.preprocess_and_save_data(cifar10_dataset_folder_path, normalize, one_hot_encode)"
   ]
  },
  {
   "cell_type": "markdown",
   "metadata": {},
   "source": [
    "# Check Point\n",
    "This is your first checkpoint.  If you ever decide to come back to this notebook or have to restart the notebook, you can start from here.  The preprocessed data has been saved to disk."
   ]
  },
  {
   "cell_type": "code",
   "execution_count": 6,
   "metadata": {
    "collapsed": true
   },
   "outputs": [],
   "source": [
    "\"\"\"\n",
    "DON'T MODIFY ANYTHING IN THIS CELL\n",
    "\"\"\"\n",
    "import pickle\n",
    "import problem_unittests as tests\n",
    "import helper\n",
    "\n",
    "# Load the Preprocessed Validation data\n",
    "valid_features, valid_labels = pickle.load(open('preprocess_validation.p', mode='rb'))"
   ]
  },
  {
   "cell_type": "markdown",
   "metadata": {},
   "source": [
    "## Build the network\n",
    "For the neural network, you'll build each layer into a function.  Most of the code you've seen has been outside of functions. To test your code more thoroughly, we require that you put each layer in a function.  This allows us to give you better feedback and test for simple mistakes using our unittests before you submit your project.\n",
    "\n",
    ">**Note:** If you're finding it hard to dedicate enough time for this course each week, we've provided a small shortcut to this part of the project. In the next couple of problems, you'll have the option to use classes from the [TensorFlow Layers](https://www.tensorflow.org/api_docs/python/tf/layers) or [TensorFlow Layers (contrib)](https://www.tensorflow.org/api_guides/python/contrib.layers) packages to build each layer, except the layers you build in the \"Convolutional and Max Pooling Layer\" section.  TF Layers is similar to Keras's and TFLearn's abstraction to layers, so it's easy to pickup.\n",
    "\n",
    ">However, if you would like to get the most out of this course, try to solve all the problems _without_ using anything from the TF Layers packages. You **can** still use classes from other packages that happen to have the same name as ones you find in TF Layers! For example, instead of using the TF Layers version of the `conv2d` class, [tf.layers.conv2d](https://www.tensorflow.org/api_docs/python/tf/layers/conv2d), you would want to use the TF Neural Network version of `conv2d`, [tf.nn.conv2d](https://www.tensorflow.org/api_docs/python/tf/nn/conv2d). \n",
    "\n",
    "Let's begin!\n",
    "\n",
    "### Input\n",
    "The neural network needs to read the image data, one-hot encoded labels, and dropout keep probability. Implement the following functions\n",
    "* Implement `neural_net_image_input`\n",
    " * Return a [TF Placeholder](https://www.tensorflow.org/api_docs/python/tf/placeholder)\n",
    " * Set the shape using `image_shape` with batch size set to `None`.\n",
    " * Name the TensorFlow placeholder \"x\" using the TensorFlow `name` parameter in the [TF Placeholder](https://www.tensorflow.org/api_docs/python/tf/placeholder).\n",
    "* Implement `neural_net_label_input`\n",
    " * Return a [TF Placeholder](https://www.tensorflow.org/api_docs/python/tf/placeholder)\n",
    " * Set the shape using `n_classes` with batch size set to `None`.\n",
    " * Name the TensorFlow placeholder \"y\" using the TensorFlow `name` parameter in the [TF Placeholder](https://www.tensorflow.org/api_docs/python/tf/placeholder).\n",
    "* Implement `neural_net_keep_prob_input`\n",
    " * Return a [TF Placeholder](https://www.tensorflow.org/api_docs/python/tf/placeholder) for dropout keep probability.\n",
    " * Name the TensorFlow placeholder \"keep_prob\" using the TensorFlow `name` parameter in the [TF Placeholder](https://www.tensorflow.org/api_docs/python/tf/placeholder).\n",
    "\n",
    "These names will be used at the end of the project to load your saved model.\n",
    "\n",
    "Note: `None` for shapes in TensorFlow allow for a dynamic size."
   ]
  },
  {
   "cell_type": "code",
   "execution_count": 7,
   "metadata": {
    "collapsed": false
   },
   "outputs": [
    {
     "name": "stdout",
     "output_type": "stream",
     "text": [
      "Image Input Tests Passed.\n",
      "Label Input Tests Passed.\n",
      "Keep Prob Tests Passed.\n"
     ]
    }
   ],
   "source": [
    "import tensorflow as tf\n",
    "\n",
    "def neural_net_image_input(image_shape):\n",
    "    \"\"\"\n",
    "    Return a Tensor for a batch of image input\n",
    "    : image_shape: Shape of the images\n",
    "    : return: Tensor for image input.\n",
    "    \"\"\"\n",
    "    # TODO: Implement Function\n",
    "    return tf.placeholder(tf.float32, shape=[None, image_shape[0], image_shape[1], image_shape[2]], name='x')\n",
    "\n",
    "\n",
    "def neural_net_label_input(n_classes):\n",
    "    \"\"\"\n",
    "    Return a Tensor for a batch of label input\n",
    "    : n_classes: Number of classes\n",
    "    : return: Tensor for label input.\n",
    "    \"\"\"\n",
    "    # TODO: Implement Function\n",
    "    return tf.placeholder(tf.float32, shape=[None, n_classes], name='y')\n",
    "\n",
    "\n",
    "def neural_net_keep_prob_input():\n",
    "    \"\"\"\n",
    "    Return a Tensor for keep probability\n",
    "    : return: Tensor for keep probability.\n",
    "    \"\"\"\n",
    "    # TODO: Implement Function\n",
    "    return tf.placeholder(tf.float32, name='keep_prob')\n",
    "\n",
    "\n",
    "\"\"\"\n",
    "DON'T MODIFY ANYTHING IN THIS CELL THAT IS BELOW THIS LINE\n",
    "\"\"\"\n",
    "tf.reset_default_graph()\n",
    "tests.test_nn_image_inputs(neural_net_image_input)\n",
    "tests.test_nn_label_inputs(neural_net_label_input)\n",
    "tests.test_nn_keep_prob_inputs(neural_net_keep_prob_input)"
   ]
  },
  {
   "cell_type": "markdown",
   "metadata": {},
   "source": [
    "### Convolution and Max Pooling Layer\n",
    "Convolution layers have a lot of success with images. For this code cell, you should implement the function `conv2d_maxpool` to apply convolution then max pooling:\n",
    "* Create the weight and bias using `conv_ksize`, `conv_num_outputs` and the shape of `x_tensor`.\n",
    "* Apply a convolution to `x_tensor` using weight and `conv_strides`.\n",
    " * We recommend you use same padding, but you're welcome to use any padding.\n",
    "* Add bias\n",
    "* Add a nonlinear activation to the convolution.\n",
    "* Apply Max Pooling using `pool_ksize` and `pool_strides`.\n",
    " * We recommend you use same padding, but you're welcome to use any padding.\n",
    "\n",
    "**Note:** You **can't** use [TensorFlow Layers](https://www.tensorflow.org/api_docs/python/tf/layers) or [TensorFlow Layers (contrib)](https://www.tensorflow.org/api_guides/python/contrib.layers) for **this** layer, but you can still use TensorFlow's [Neural Network](https://www.tensorflow.org/api_docs/python/tf/nn) package. You may still use the shortcut option for all the **other** layers."
   ]
  },
  {
   "cell_type": "code",
   "execution_count": 54,
   "metadata": {
    "collapsed": false
   },
   "outputs": [
    {
     "name": "stdout",
     "output_type": "stream",
     "text": [
      "Tests Passed\n"
     ]
    }
   ],
   "source": [
    "def conv2d_maxpool(x_tensor, conv_num_outputs, conv_ksize, conv_strides, pool_ksize, pool_strides):\n",
    "    \"\"\"\n",
    "    Apply convolution then max pooling to x_tensor\n",
    "    :param x_tensor: TensorFlow Tensor\n",
    "    :param conv_num_outputs: Number of outputs for the convolutional layer\n",
    "    :param conv_ksize: kernal size 2-D Tuple for the convolutional layer\n",
    "    :param conv_strides: Stride 2-D Tuple for convolution\n",
    "    :param pool_ksize: kernal size 2-D Tuple for pool\n",
    "    :param pool_strides: Stride 2-D Tuple for pool\n",
    "    : return: A tensor that represents convolution and max pooling of x_tensor\n",
    "    \"\"\"\n",
    "    # TODO: Implement Function\n",
    "    input_shape = x_tensor.get_shape().as_list()\n",
    "    F_W = tf.Variable(tf.truncated_normal([*conv_ksize, input_shape[3], conv_num_outputs], stddev=0.1))\n",
    "    F_b = tf.Variable(tf.random_normal([conv_num_outputs], stddev=0.1))\n",
    "    strides = [1, conv_strides[0], conv_strides[1], 1]\n",
    "    padding = 'SAME'\n",
    "    x = tf.nn.conv2d(x_tensor, F_W, strides, padding)\n",
    "    x = tf.nn.bias_add(x, F_b)\n",
    "    x = tf.nn.relu(x)\n",
    "    return tf.nn.max_pool(x, ksize=[1, pool_ksize[0], pool_ksize[1], 1], \n",
    "                          strides=[1, pool_strides[0], pool_strides[1], 1],\n",
    "                          padding=padding)\n",
    "\n",
    "\n",
    "\"\"\"\n",
    "DON'T MODIFY ANYTHING IN THIS CELL THAT IS BELOW THIS LINE\n",
    "\"\"\"\n",
    "tests.test_con_pool(conv2d_maxpool)"
   ]
  },
  {
   "cell_type": "markdown",
   "metadata": {},
   "source": [
    "### Flatten Layer\n",
    "Implement the `flatten` function to change the dimension of `x_tensor` from a 4-D tensor to a 2-D tensor.  The output should be the shape (*Batch Size*, *Flattened Image Size*). Shortcut option: you can use classes from the [TensorFlow Layers](https://www.tensorflow.org/api_docs/python/tf/layers) or [TensorFlow Layers (contrib)](https://www.tensorflow.org/api_guides/python/contrib.layers) packages for this layer. For more of a challenge, only use other TensorFlow packages."
   ]
  },
  {
   "cell_type": "code",
   "execution_count": 55,
   "metadata": {
    "collapsed": false
   },
   "outputs": [
    {
     "name": "stdout",
     "output_type": "stream",
     "text": [
      "Tests Passed\n"
     ]
    }
   ],
   "source": [
    "def flatten(x_tensor):\n",
    "    \"\"\"\n",
    "    Flatten x_tensor to (Batch Size, Flattened Image Size)\n",
    "    : x_tensor: A tensor of size (Batch Size, ...), where ... are the image dimensions.\n",
    "    : return: A tensor of size (Batch Size, Flattened Image Size).\n",
    "    \"\"\"\n",
    "    # TODO: Implement Function\n",
    "    imgs = x_tensor.get_shape().as_list()\n",
    "    size = imgs[1]*imgs[2]*imgs[3]\n",
    "    return tf.reshape(x_tensor, [-1, size])\n",
    "\n",
    "\n",
    "\"\"\"\n",
    "DON'T MODIFY ANYTHING IN THIS CELL THAT IS BELOW THIS LINE\n",
    "\"\"\"\n",
    "tests.test_flatten(flatten)"
   ]
  },
  {
   "cell_type": "markdown",
   "metadata": {},
   "source": [
    "### Fully-Connected Layer\n",
    "Implement the `fully_conn` function to apply a fully connected layer to `x_tensor` with the shape (*Batch Size*, *num_outputs*). Shortcut option: you can use classes from the [TensorFlow Layers](https://www.tensorflow.org/api_docs/python/tf/layers) or [TensorFlow Layers (contrib)](https://www.tensorflow.org/api_guides/python/contrib.layers) packages for this layer. For more of a challenge, only use other TensorFlow packages."
   ]
  },
  {
   "cell_type": "code",
   "execution_count": 56,
   "metadata": {
    "collapsed": false
   },
   "outputs": [
    {
     "name": "stdout",
     "output_type": "stream",
     "text": [
      "Tests Passed\n"
     ]
    }
   ],
   "source": [
    "def fully_conn(x_tensor, num_outputs):\n",
    "    \"\"\"\n",
    "    Apply a fully connected layer to x_tensor using weight and bias\n",
    "    : x_tensor: A 2-D tensor where the first dimension is batch size.\n",
    "    : num_outputs: The number of output that the new tensor should be.\n",
    "    : return: A 2-D tensor where the second dimension is num_outputs.\n",
    "    \"\"\"\n",
    "    # TODO: Implement Function\n",
    "    weights = tf.Variable(tf.random_normal([x_tensor.get_shape().as_list()[1], num_outputs], stddev=0.1))\n",
    "    bias = tf.Variable(tf.random_normal([num_outputs], stddev=0.1))\n",
    "    x_tensor = tf.matmul(x_tensor, weights)\n",
    "    x_tensor = tf.nn.bias_add(x_tensor, bias)\n",
    "    return tf.nn.relu(x_tensor)\n",
    "\n",
    "\n",
    "\"\"\"\n",
    "DON'T MODIFY ANYTHING IN THIS CELL THAT IS BELOW THIS LINE\n",
    "\"\"\"\n",
    "tests.test_fully_conn(fully_conn)"
   ]
  },
  {
   "cell_type": "markdown",
   "metadata": {},
   "source": [
    "### Output Layer\n",
    "Implement the `output` function to apply a fully connected layer to `x_tensor` with the shape (*Batch Size*, *num_outputs*). Shortcut option: you can use classes from the [TensorFlow Layers](https://www.tensorflow.org/api_docs/python/tf/layers) or [TensorFlow Layers (contrib)](https://www.tensorflow.org/api_guides/python/contrib.layers) packages for this layer. For more of a challenge, only use other TensorFlow packages.\n",
    "\n",
    "**Note:** Activation, softmax, or cross entropy should **not** be applied to this."
   ]
  },
  {
   "cell_type": "code",
   "execution_count": 57,
   "metadata": {
    "collapsed": false
   },
   "outputs": [
    {
     "name": "stdout",
     "output_type": "stream",
     "text": [
      "Tests Passed\n"
     ]
    }
   ],
   "source": [
    "def output(x_tensor, num_outputs):\n",
    "    \"\"\"\n",
    "    Apply a output layer to x_tensor using weight and bias\n",
    "    : x_tensor: A 2-D tensor where the first dimension is batch size.\n",
    "    : num_outputs: The number of output that the new tensor should be.\n",
    "    : return: A 2-D tensor where the second dimension is num_outputs.\n",
    "    \"\"\"\n",
    "    # TODO: Implement Function\n",
    "    weights = tf.Variable(tf.random_normal([x_tensor.get_shape().as_list()[1], num_outputs], stddev=0.1))\n",
    "    bias = tf.Variable(tf.random_normal([num_outputs], stddev=0.1))\n",
    "    x_tensor = tf.matmul(x_tensor, weights)\n",
    "    return tf.nn.bias_add(x_tensor, bias)\n",
    "\n",
    "\n",
    "\"\"\"\n",
    "DON'T MODIFY ANYTHING IN THIS CELL THAT IS BELOW THIS LINE\n",
    "\"\"\"\n",
    "tests.test_output(output)"
   ]
  },
  {
   "cell_type": "markdown",
   "metadata": {},
   "source": [
    "### Create Convolutional Model\n",
    "Implement the function `conv_net` to create a convolutional neural network model. The function takes in a batch of images, `x`, and outputs logits.  Use the layers you created above to create this model:\n",
    "\n",
    "* Apply 1, 2, or 3 Convolution and Max Pool layers\n",
    "* Apply a Flatten Layer\n",
    "* Apply 1, 2, or 3 Fully Connected Layers\n",
    "* Apply an Output Layer\n",
    "* Return the output\n",
    "* Apply [TensorFlow's Dropout](https://www.tensorflow.org/api_docs/python/tf/nn/dropout) to one or more layers in the model using `keep_prob`. "
   ]
  },
  {
   "cell_type": "code",
   "execution_count": 67,
   "metadata": {
    "collapsed": false
   },
   "outputs": [
    {
     "name": "stdout",
     "output_type": "stream",
     "text": [
      "Neural Network Built!\n"
     ]
    }
   ],
   "source": [
    "def conv_net(x, keep_prob):\n",
    "    \"\"\"\n",
    "    Create a convolutional neural network model\n",
    "    : x: Placeholder tensor that holds image data.\n",
    "    : keep_prob: Placeholder tensor that hold dropout keep probability.\n",
    "    : return: Tensor that represents logits\n",
    "    \"\"\"\n",
    "    # TODO: Apply 1, 2, or 3 Convolution and Max Pool layers\n",
    "    #    Play around with different number of outputs, kernel size and stride\n",
    "    # Function Definition from Above:\n",
    "    #    conv2d_maxpool(x_tensor, conv_num_outputs, conv_ksize, conv_strides, pool_ksize, pool_strides)\n",
    "    x = conv2d_maxpool(x, 10, [5, 5], [1, 1], [2, 2], [2, 2])\n",
    "    x = conv2d_maxpool(x, 30, [3, 3], [1, 1], [2, 2], [2, 2])\n",
    "    \n",
    "\n",
    "    # TODO: Apply a Flatten Layer\n",
    "    # Function Definition from Above:\n",
    "    #   flatten(x_tensor)\n",
    "    x = flatten(x)\n",
    "\n",
    "    # TODO: Apply 1, 2, or 3 Fully Connected Layers\n",
    "    #    Play around with different number of outputs\n",
    "    # Function Definition from Above:\n",
    "    #   fully_conn(x_tensor, num_outputs)\n",
    "    x = fully_conn(x, 128)\n",
    "    \n",
    "    # TODO: Apply an Output Layer\n",
    "    #    Set this to the number of classes\n",
    "    # Function Definition from Above:\n",
    "    #   output(x_tensor, num_outputs)\n",
    "    x = output(x, 10)\n",
    "    \n",
    "    # TODO: return output\n",
    "    return x\n",
    "\n",
    "\n",
    "\"\"\"\n",
    "DON'T MODIFY ANYTHING IN THIS CELL THAT IS BELOW THIS LINE\n",
    "\"\"\"\n",
    "\n",
    "##############################\n",
    "## Build the Neural Network ##\n",
    "##############################\n",
    "\n",
    "# Remove previous weights, bias, inputs, etc..\n",
    "tf.reset_default_graph()\n",
    "\n",
    "# Inputs\n",
    "x = neural_net_image_input((32, 32, 3))\n",
    "y = neural_net_label_input(10)\n",
    "keep_prob = neural_net_keep_prob_input()\n",
    "\n",
    "# Model\n",
    "logits = conv_net(x, keep_prob)\n",
    "\n",
    "# Name logits Tensor, so that is can be loaded from disk after training\n",
    "logits = tf.identity(logits, name='logits')\n",
    "\n",
    "# Loss and Optimizer\n",
    "cost = tf.reduce_mean(tf.nn.softmax_cross_entropy_with_logits(logits=logits, labels=y))\n",
    "optimizer = tf.train.AdamOptimizer().minimize(cost)\n",
    "\n",
    "# Accuracy\n",
    "correct_pred = tf.equal(tf.argmax(logits, 1), tf.argmax(y, 1))\n",
    "accuracy = tf.reduce_mean(tf.cast(correct_pred, tf.float32), name='accuracy')\n",
    "\n",
    "tests.test_conv_net(conv_net)"
   ]
  },
  {
   "cell_type": "markdown",
   "metadata": {},
   "source": [
    "## Train the Neural Network\n",
    "### Single Optimization\n",
    "Implement the function `train_neural_network` to do a single optimization.  The optimization should use `optimizer` to optimize in `session` with a `feed_dict` of the following:\n",
    "* `x` for image input\n",
    "* `y` for labels\n",
    "* `keep_prob` for keep probability for dropout\n",
    "\n",
    "This function will be called for each batch, so `tf.global_variables_initializer()` has already been called.\n",
    "\n",
    "Note: Nothing needs to be returned. This function is only optimizing the neural network."
   ]
  },
  {
   "cell_type": "code",
   "execution_count": 65,
   "metadata": {
    "collapsed": false
   },
   "outputs": [
    {
     "name": "stdout",
     "output_type": "stream",
     "text": [
      "Tests Passed\n"
     ]
    }
   ],
   "source": [
    "def train_neural_network(session, optimizer, keep_probability, feature_batch, label_batch):\n",
    "    \"\"\"\n",
    "    Optimize the session on a batch of images and labels\n",
    "    : session: Current TensorFlow session\n",
    "    : optimizer: TensorFlow optimizer function\n",
    "    : keep_probability: keep probability\n",
    "    : feature_batch: Batch of Numpy image data\n",
    "    : label_batch: Batch of Numpy label data\n",
    "    \"\"\"\n",
    "    # TODO: Implement Function\n",
    "    session.run(optimizer, feed_dict={x: feature_batch, y: label_batch, keep_prob: keep_probability})\n",
    "\n",
    "\n",
    "\"\"\"\n",
    "DON'T MODIFY ANYTHING IN THIS CELL THAT IS BELOW THIS LINE\n",
    "\"\"\"\n",
    "tests.test_train_nn(train_neural_network)"
   ]
  },
  {
   "cell_type": "markdown",
   "metadata": {},
   "source": [
    "### Show Stats\n",
    "Implement the function `print_stats` to print loss and validation accuracy.  Use the global variables `valid_features` and `valid_labels` to calculate validation accuracy.  Use a keep probability of `1.0` to calculate the loss and validation accuracy."
   ]
  },
  {
   "cell_type": "code",
   "execution_count": 60,
   "metadata": {
    "collapsed": false
   },
   "outputs": [],
   "source": [
    "def print_stats(session, feature_batch, label_batch, cost, accuracy):\n",
    "    \"\"\"\n",
    "    Print information about loss and validation accuracy\n",
    "    : session: Current TensorFlow session\n",
    "    : feature_batch: Batch of Numpy image data\n",
    "    : label_batch: Batch of Numpy label data\n",
    "    : cost: TensorFlow cost function\n",
    "    : accuracy: TensorFlow accuracy function\n",
    "    \"\"\"\n",
    "    # TODO: Implement Function\n",
    "    global valid_features, valid_labels\n",
    "    loss = sess.run(\n",
    "        cost, feed_dict={ x: feature_batch, y: label_batch, keep_prob: 1.0 }\n",
    "    )\n",
    "    validation_accuracy = sess.run(\n",
    "        accuracy, feed_dict={ x: valid_features, y: valid_labels, keep_prob: 1.0 }\n",
    "    )\n",
    "    print(' Loss: {:<8.3} Accuracy: {:<5.3}'.format(loss, validation_accuracy), end='\\n')"
   ]
  },
  {
   "cell_type": "markdown",
   "metadata": {},
   "source": [
    "### Hyperparameters\n",
    "Tune the following parameters:\n",
    "* Set `epochs` to the number of iterations until the network stops learning or start overfitting\n",
    "* Set `batch_size` to the highest number that your machine has memory for.  Most people set them to common sizes of memory:\n",
    " * 64\n",
    " * 128\n",
    " * 256\n",
    " * ...\n",
    "* Set `keep_probability` to the probability of keeping a node using dropout"
   ]
  },
  {
   "cell_type": "code",
   "execution_count": 62,
   "metadata": {
    "collapsed": true
   },
   "outputs": [],
   "source": [
    "# TODO: Tune Parameters\n",
    "epochs = 50\n",
    "batch_size = 512\n",
    "keep_probability = 0.75"
   ]
  },
  {
   "cell_type": "markdown",
   "metadata": {},
   "source": [
    "### Train on a Single CIFAR-10 Batch\n",
    "Instead of training the neural network on all the CIFAR-10 batches of data, let's use a single batch. This should save time while you iterate on the model to get a better accuracy.  Once the final validation accuracy is 50% or greater, run the model on all the data in the next section."
   ]
  },
  {
   "cell_type": "code",
   "execution_count": 68,
   "metadata": {
    "collapsed": false
   },
   "outputs": [
    {
     "name": "stdout",
     "output_type": "stream",
     "text": [
      "Checking the Training on a Single Batch...\n",
      "Epoch  1, CIFAR-10 Batch 1:   Loss: 2.06     Accuracy: 0.265\n",
      "Epoch  2, CIFAR-10 Batch 1:   Loss: 1.87     Accuracy: 0.346\n",
      "Epoch  3, CIFAR-10 Batch 1:   Loss: 1.74     Accuracy: 0.389\n",
      "Epoch  4, CIFAR-10 Batch 1:   Loss: 1.67     Accuracy: 0.409\n",
      "Epoch  5, CIFAR-10 Batch 1:   Loss: 1.58     Accuracy: 0.45 \n",
      "Epoch  6, CIFAR-10 Batch 1:   Loss: 1.52     Accuracy: 0.471\n",
      "Epoch  7, CIFAR-10 Batch 1:   Loss: 1.47     Accuracy: 0.482\n",
      "Epoch  8, CIFAR-10 Batch 1:   Loss: 1.42     Accuracy: 0.486\n",
      "Epoch  9, CIFAR-10 Batch 1:   Loss: 1.37     Accuracy: 0.497\n",
      "Epoch 10, CIFAR-10 Batch 1:   Loss: 1.32     Accuracy: 0.506\n",
      "Epoch 11, CIFAR-10 Batch 1:   Loss: 1.29     Accuracy: 0.51 \n",
      "Epoch 12, CIFAR-10 Batch 1:   Loss: 1.25     Accuracy: 0.511\n",
      "Epoch 13, CIFAR-10 Batch 1:   Loss: 1.21     Accuracy: 0.515\n",
      "Epoch 14, CIFAR-10 Batch 1:   Loss: 1.17     Accuracy: 0.519\n",
      "Epoch 15, CIFAR-10 Batch 1:   Loss: 1.13     Accuracy: 0.526\n",
      "Epoch 16, CIFAR-10 Batch 1:   Loss: 1.09     Accuracy: 0.525\n",
      "Epoch 17, CIFAR-10 Batch 1:   Loss: 1.05     Accuracy: 0.53 \n",
      "Epoch 18, CIFAR-10 Batch 1:   Loss: 1.0      Accuracy: 0.532\n",
      "Epoch 19, CIFAR-10 Batch 1:   Loss: 0.968    Accuracy: 0.541\n",
      "Epoch 20, CIFAR-10 Batch 1:   Loss: 0.926    Accuracy: 0.538\n",
      "Epoch 21, CIFAR-10 Batch 1:   Loss: 0.896    Accuracy: 0.54 \n",
      "Epoch 22, CIFAR-10 Batch 1:   Loss: 0.87     Accuracy: 0.537\n",
      "Epoch 23, CIFAR-10 Batch 1:   Loss: 0.857    Accuracy: 0.537\n",
      "Epoch 24, CIFAR-10 Batch 1:   Loss: 0.813    Accuracy: 0.545\n",
      "Epoch 25, CIFAR-10 Batch 1:   Loss: 0.78     Accuracy: 0.547\n",
      "Epoch 26, CIFAR-10 Batch 1:   Loss: 0.75     Accuracy: 0.554\n",
      "Epoch 27, CIFAR-10 Batch 1:   Loss: 0.726    Accuracy: 0.553\n",
      "Epoch 28, CIFAR-10 Batch 1:   Loss: 0.702    Accuracy: 0.547\n",
      "Epoch 29, CIFAR-10 Batch 1:   Loss: 0.673    Accuracy: 0.548\n",
      "Epoch 30, CIFAR-10 Batch 1:   Loss: 0.644    Accuracy: 0.55 \n",
      "Epoch 31, CIFAR-10 Batch 1:   Loss: 0.618    Accuracy: 0.551\n",
      "Epoch 32, CIFAR-10 Batch 1:   Loss: 0.603    Accuracy: 0.547\n",
      "Epoch 33, CIFAR-10 Batch 1:   Loss: 0.587    Accuracy: 0.546\n",
      "Epoch 34, CIFAR-10 Batch 1:   Loss: 0.557    Accuracy: 0.553\n",
      "Epoch 35, CIFAR-10 Batch 1:   Loss: 0.519    Accuracy: 0.551\n",
      "Epoch 36, CIFAR-10 Batch 1:   Loss: 0.489    Accuracy: 0.554\n",
      "Epoch 37, CIFAR-10 Batch 1:   Loss: 0.462    Accuracy: 0.558\n",
      "Epoch 38, CIFAR-10 Batch 1:   Loss: 0.44     Accuracy: 0.559\n",
      "Epoch 39, CIFAR-10 Batch 1:   Loss: 0.419    Accuracy: 0.563\n",
      "Epoch 40, CIFAR-10 Batch 1:   Loss: 0.398    Accuracy: 0.565\n",
      "Epoch 41, CIFAR-10 Batch 1:   Loss: 0.381    Accuracy: 0.564\n",
      "Epoch 42, CIFAR-10 Batch 1:   Loss: 0.367    Accuracy: 0.566\n",
      "Epoch 43, CIFAR-10 Batch 1:   Loss: 0.355    Accuracy: 0.569\n",
      "Epoch 44, CIFAR-10 Batch 1:   Loss: 0.341    Accuracy: 0.567\n",
      "Epoch 45, CIFAR-10 Batch 1:   Loss: 0.332    Accuracy: 0.568\n",
      "Epoch 46, CIFAR-10 Batch 1:   Loss: 0.33     Accuracy: 0.566\n",
      "Epoch 47, CIFAR-10 Batch 1:   Loss: 0.338    Accuracy: 0.563\n",
      "Epoch 48, CIFAR-10 Batch 1:   Loss: 0.343    Accuracy: 0.562\n",
      "Epoch 49, CIFAR-10 Batch 1:   Loss: 0.32     Accuracy: 0.555\n",
      "Epoch 50, CIFAR-10 Batch 1:   Loss: 0.309    Accuracy: 0.546\n"
     ]
    }
   ],
   "source": [
    "\"\"\"\n",
    "DON'T MODIFY ANYTHING IN THIS CELL\n",
    "\"\"\"\n",
    "print('Checking the Training on a Single Batch...')\n",
    "with tf.Session() as sess:\n",
    "    # Initializing the variables\n",
    "    sess.run(tf.global_variables_initializer())\n",
    "    \n",
    "    # Training cycle\n",
    "    for epoch in range(epochs):\n",
    "        batch_i = 1\n",
    "        for batch_features, batch_labels in helper.load_preprocess_training_batch(batch_i, batch_size):\n",
    "            train_neural_network(sess, optimizer, keep_probability, batch_features, batch_labels)\n",
    "        print('Epoch {:>2}, CIFAR-10 Batch {}:  '.format(epoch + 1, batch_i), end='')\n",
    "        print_stats(sess, batch_features, batch_labels, cost, accuracy)"
   ]
  },
  {
   "cell_type": "markdown",
   "metadata": {},
   "source": [
    "### Fully Train the Model\n",
    "Now that you got a good accuracy with a single CIFAR-10 batch, try it with all five batches."
   ]
  },
  {
   "cell_type": "code",
   "execution_count": 69,
   "metadata": {
    "collapsed": false,
    "scrolled": false
   },
   "outputs": [
    {
     "name": "stdout",
     "output_type": "stream",
     "text": [
      "Training...\n",
      "Epoch  1, CIFAR-10 Batch 1:   Loss: 2.16     Accuracy: 0.243\n",
      "Epoch  1, CIFAR-10 Batch 2:   Loss: 1.94     Accuracy: 0.318\n",
      "Epoch  1, CIFAR-10 Batch 3:   Loss: 1.69     Accuracy: 0.364\n",
      "Epoch  1, CIFAR-10 Batch 4:   Loss: 1.58     Accuracy: 0.405\n",
      "Epoch  1, CIFAR-10 Batch 5:   Loss: 1.61     Accuracy: 0.428\n",
      "Epoch  2, CIFAR-10 Batch 1:   Loss: 1.64     Accuracy: 0.451\n",
      "Epoch  2, CIFAR-10 Batch 2:   Loss: 1.44     Accuracy: 0.472\n",
      "Epoch  2, CIFAR-10 Batch 3:   Loss: 1.35     Accuracy: 0.465\n",
      "Epoch  2, CIFAR-10 Batch 4:   Loss: 1.33     Accuracy: 0.477\n",
      "Epoch  2, CIFAR-10 Batch 5:   Loss: 1.39     Accuracy: 0.496\n",
      "Epoch  3, CIFAR-10 Batch 1:   Loss: 1.47     Accuracy: 0.503\n",
      "Epoch  3, CIFAR-10 Batch 2:   Loss: 1.29     Accuracy: 0.504\n",
      "Epoch  3, CIFAR-10 Batch 3:   Loss: 1.23     Accuracy: 0.504\n",
      "Epoch  3, CIFAR-10 Batch 4:   Loss: 1.21     Accuracy: 0.52 \n",
      "Epoch  3, CIFAR-10 Batch 5:   Loss: 1.29     Accuracy: 0.529\n",
      "Epoch  4, CIFAR-10 Batch 1:   Loss: 1.36     Accuracy: 0.535\n",
      "Epoch  4, CIFAR-10 Batch 2:   Loss: 1.18     Accuracy: 0.534\n",
      "Epoch  4, CIFAR-10 Batch 3:   Loss: 1.14     Accuracy: 0.532\n",
      "Epoch  4, CIFAR-10 Batch 4:   Loss: 1.13     Accuracy: 0.547\n",
      "Epoch  4, CIFAR-10 Batch 5:   Loss: 1.21     Accuracy: 0.547\n",
      "Epoch  5, CIFAR-10 Batch 1:   Loss: 1.28     Accuracy: 0.554\n",
      "Epoch  5, CIFAR-10 Batch 2:   Loss: 1.09     Accuracy: 0.551\n",
      "Epoch  5, CIFAR-10 Batch 3:   Loss: 1.08     Accuracy: 0.545\n",
      "Epoch  5, CIFAR-10 Batch 4:   Loss: 1.07     Accuracy: 0.561\n",
      "Epoch  5, CIFAR-10 Batch 5:   Loss: 1.14     Accuracy: 0.564\n",
      "Epoch  6, CIFAR-10 Batch 1:   Loss: 1.22     Accuracy: 0.567\n",
      "Epoch  6, CIFAR-10 Batch 2:   Loss: 1.02     Accuracy: 0.561\n",
      "Epoch  6, CIFAR-10 Batch 3:   Loss: 1.03     Accuracy: 0.556\n",
      "Epoch  6, CIFAR-10 Batch 4:   Loss: 1.01     Accuracy: 0.575\n",
      "Epoch  6, CIFAR-10 Batch 5:   Loss: 1.07     Accuracy: 0.576\n",
      "Epoch  7, CIFAR-10 Batch 1:   Loss: 1.16     Accuracy: 0.578\n",
      "Epoch  7, CIFAR-10 Batch 2:   Loss: 0.982    Accuracy: 0.568\n",
      "Epoch  7, CIFAR-10 Batch 3:   Loss: 0.984    Accuracy: 0.572\n",
      "Epoch  7, CIFAR-10 Batch 4:   Loss: 0.966    Accuracy: 0.581\n",
      "Epoch  7, CIFAR-10 Batch 5:   Loss: 1.01     Accuracy: 0.587\n",
      "Epoch  8, CIFAR-10 Batch 1:   Loss: 1.1      Accuracy: 0.589\n",
      "Epoch  8, CIFAR-10 Batch 2:   Loss: 0.936    Accuracy: 0.574\n",
      "Epoch  8, CIFAR-10 Batch 3:   Loss: 0.953    Accuracy: 0.584\n",
      "Epoch  8, CIFAR-10 Batch 4:   Loss: 0.927    Accuracy: 0.588\n",
      "Epoch  8, CIFAR-10 Batch 5:   Loss: 0.959    Accuracy: 0.595\n",
      "Epoch  9, CIFAR-10 Batch 1:   Loss: 1.06     Accuracy: 0.595\n",
      "Epoch  9, CIFAR-10 Batch 2:   Loss: 0.902    Accuracy: 0.573\n",
      "Epoch  9, CIFAR-10 Batch 3:   Loss: 0.941    Accuracy: 0.588\n",
      "Epoch  9, CIFAR-10 Batch 4:   Loss: 0.898    Accuracy: 0.591\n",
      "Epoch  9, CIFAR-10 Batch 5:   Loss: 0.91     Accuracy: 0.604\n",
      "Epoch 10, CIFAR-10 Batch 1:   Loss: 1.01     Accuracy: 0.603\n",
      "Epoch 10, CIFAR-10 Batch 2:   Loss: 0.868    Accuracy: 0.581\n",
      "Epoch 10, CIFAR-10 Batch 3:   Loss: 0.919    Accuracy: 0.595\n",
      "Epoch 10, CIFAR-10 Batch 4:   Loss: 0.86     Accuracy: 0.6  \n",
      "Epoch 10, CIFAR-10 Batch 5:   Loss: 0.868    Accuracy: 0.608\n",
      "Epoch 11, CIFAR-10 Batch 1:   Loss: 0.977    Accuracy: 0.602\n",
      "Epoch 11, CIFAR-10 Batch 2:   Loss: 0.851    Accuracy: 0.584\n",
      "Epoch 11, CIFAR-10 Batch 3:   Loss: 0.865    Accuracy: 0.603\n",
      "Epoch 11, CIFAR-10 Batch 4:   Loss: 0.816    Accuracy: 0.604\n",
      "Epoch 11, CIFAR-10 Batch 5:   Loss: 0.838    Accuracy: 0.61 \n",
      "Epoch 12, CIFAR-10 Batch 1:   Loss: 0.941    Accuracy: 0.606\n",
      "Epoch 12, CIFAR-10 Batch 2:   Loss: 0.824    Accuracy: 0.594\n",
      "Epoch 12, CIFAR-10 Batch 3:   Loss: 0.82     Accuracy: 0.61 \n",
      "Epoch 12, CIFAR-10 Batch 4:   Loss: 0.771    Accuracy: 0.615\n",
      "Epoch 12, CIFAR-10 Batch 5:   Loss: 0.81     Accuracy: 0.616\n",
      "Epoch 13, CIFAR-10 Batch 1:   Loss: 0.9      Accuracy: 0.614\n",
      "Epoch 13, CIFAR-10 Batch 2:   Loss: 0.791    Accuracy: 0.602\n",
      "Epoch 13, CIFAR-10 Batch 3:   Loss: 0.784    Accuracy: 0.616\n",
      "Epoch 13, CIFAR-10 Batch 4:   Loss: 0.738    Accuracy: 0.62 \n",
      "Epoch 13, CIFAR-10 Batch 5:   Loss: 0.785    Accuracy: 0.621\n",
      "Epoch 14, CIFAR-10 Batch 1:   Loss: 0.869    Accuracy: 0.621\n",
      "Epoch 14, CIFAR-10 Batch 2:   Loss: 0.764    Accuracy: 0.609\n",
      "Epoch 14, CIFAR-10 Batch 3:   Loss: 0.754    Accuracy: 0.619\n",
      "Epoch 14, CIFAR-10 Batch 4:   Loss: 0.71     Accuracy: 0.619\n",
      "Epoch 14, CIFAR-10 Batch 5:   Loss: 0.76     Accuracy: 0.622\n",
      "Epoch 15, CIFAR-10 Batch 1:   Loss: 0.838    Accuracy: 0.628\n",
      "Epoch 15, CIFAR-10 Batch 2:   Loss: 0.737    Accuracy: 0.613\n",
      "Epoch 15, CIFAR-10 Batch 3:   Loss: 0.735    Accuracy: 0.62 \n",
      "Epoch 15, CIFAR-10 Batch 4:   Loss: 0.687    Accuracy: 0.621\n",
      "Epoch 15, CIFAR-10 Batch 5:   Loss: 0.738    Accuracy: 0.626\n",
      "Epoch 16, CIFAR-10 Batch 1:   Loss: 0.805    Accuracy: 0.631\n",
      "Epoch 16, CIFAR-10 Batch 2:   Loss: 0.703    Accuracy: 0.616\n",
      "Epoch 16, CIFAR-10 Batch 3:   Loss: 0.713    Accuracy: 0.623\n",
      "Epoch 16, CIFAR-10 Batch 4:   Loss: 0.663    Accuracy: 0.624\n",
      "Epoch 16, CIFAR-10 Batch 5:   Loss: 0.716    Accuracy: 0.629\n",
      "Epoch 17, CIFAR-10 Batch 1:   Loss: 0.781    Accuracy: 0.631\n",
      "Epoch 17, CIFAR-10 Batch 2:   Loss: 0.677    Accuracy: 0.619\n",
      "Epoch 17, CIFAR-10 Batch 3:   Loss: 0.695    Accuracy: 0.624\n",
      "Epoch 17, CIFAR-10 Batch 4:   Loss: 0.637    Accuracy: 0.626\n",
      "Epoch 17, CIFAR-10 Batch 5:   Loss: 0.691    Accuracy: 0.626\n",
      "Epoch 18, CIFAR-10 Batch 1:   Loss: 0.758    Accuracy: 0.63 \n",
      "Epoch 18, CIFAR-10 Batch 2:   Loss: 0.654    Accuracy: 0.62 \n",
      "Epoch 18, CIFAR-10 Batch 3:   Loss: 0.673    Accuracy: 0.626\n",
      "Epoch 18, CIFAR-10 Batch 4:   Loss: 0.615    Accuracy: 0.629\n",
      "Epoch 18, CIFAR-10 Batch 5:   Loss: 0.669    Accuracy: 0.626\n",
      "Epoch 19, CIFAR-10 Batch 1:   Loss: 0.728    Accuracy: 0.634\n",
      "Epoch 19, CIFAR-10 Batch 2:   Loss: 0.623    Accuracy: 0.622\n",
      "Epoch 19, CIFAR-10 Batch 3:   Loss: 0.657    Accuracy: 0.63 \n",
      "Epoch 19, CIFAR-10 Batch 4:   Loss: 0.595    Accuracy: 0.629\n",
      "Epoch 19, CIFAR-10 Batch 5:   Loss: 0.649    Accuracy: 0.625\n",
      "Epoch 20, CIFAR-10 Batch 1:   Loss: 0.706    Accuracy: 0.637\n",
      "Epoch 20, CIFAR-10 Batch 2:   Loss: 0.605    Accuracy: 0.626\n",
      "Epoch 20, CIFAR-10 Batch 3:   Loss: 0.633    Accuracy: 0.631\n",
      "Epoch 20, CIFAR-10 Batch 4:   Loss: 0.574    Accuracy: 0.629\n",
      "Epoch 20, CIFAR-10 Batch 5:   Loss: 0.628    Accuracy: 0.624\n",
      "Epoch 21, CIFAR-10 Batch 1:   Loss: 0.687    Accuracy: 0.639\n",
      "Epoch 21, CIFAR-10 Batch 2:   Loss: 0.589    Accuracy: 0.628\n",
      "Epoch 21, CIFAR-10 Batch 3:   Loss: 0.613    Accuracy: 0.632\n",
      "Epoch 21, CIFAR-10 Batch 4:   Loss: 0.554    Accuracy: 0.629\n",
      "Epoch 21, CIFAR-10 Batch 5:   Loss: 0.605    Accuracy: 0.627\n",
      "Epoch 22, CIFAR-10 Batch 1:   Loss: 0.663    Accuracy: 0.64 \n",
      "Epoch 22, CIFAR-10 Batch 2:   Loss: 0.579    Accuracy: 0.63 \n",
      "Epoch 22, CIFAR-10 Batch 3:   Loss: 0.6      Accuracy: 0.635\n",
      "Epoch 22, CIFAR-10 Batch 4:   Loss: 0.533    Accuracy: 0.633\n",
      "Epoch 22, CIFAR-10 Batch 5:   Loss: 0.578    Accuracy: 0.629\n",
      "Epoch 23, CIFAR-10 Batch 1:   Loss: 0.636    Accuracy: 0.639\n",
      "Epoch 23, CIFAR-10 Batch 2:   Loss: 0.562    Accuracy: 0.632\n",
      "Epoch 23, CIFAR-10 Batch 3:   Loss: 0.59     Accuracy: 0.634\n",
      "Epoch 23, CIFAR-10 Batch 4:   Loss: 0.513    Accuracy: 0.637\n",
      "Epoch 23, CIFAR-10 Batch 5:   Loss: 0.552    Accuracy: 0.636\n",
      "Epoch 24, CIFAR-10 Batch 1:   Loss: 0.606    Accuracy: 0.644\n",
      "Epoch 24, CIFAR-10 Batch 2:   Loss: 0.541    Accuracy: 0.634\n",
      "Epoch 24, CIFAR-10 Batch 3:   Loss: 0.573    Accuracy: 0.63 \n",
      "Epoch 24, CIFAR-10 Batch 4:   Loss: 0.494    Accuracy: 0.638\n",
      "Epoch 24, CIFAR-10 Batch 5:   Loss: 0.528    Accuracy: 0.642\n",
      "Epoch 25, CIFAR-10 Batch 1:   Loss: 0.585    Accuracy: 0.646\n",
      "Epoch 25, CIFAR-10 Batch 2:   Loss: 0.522    Accuracy: 0.634\n",
      "Epoch 25, CIFAR-10 Batch 3:   Loss: 0.551    Accuracy: 0.633\n",
      "Epoch 25, CIFAR-10 Batch 4:   Loss: 0.474    Accuracy: 0.638\n",
      "Epoch 25, CIFAR-10 Batch 5:   Loss: 0.507    Accuracy: 0.642\n",
      "Epoch 26, CIFAR-10 Batch 1:   Loss: 0.568    Accuracy: 0.646\n",
      "Epoch 26, CIFAR-10 Batch 2:   Loss: 0.504    Accuracy: 0.636\n",
      "Epoch 26, CIFAR-10 Batch 3:   Loss: 0.524    Accuracy: 0.634\n",
      "Epoch 26, CIFAR-10 Batch 4:   Loss: 0.454    Accuracy: 0.64 \n",
      "Epoch 26, CIFAR-10 Batch 5:   Loss: 0.49     Accuracy: 0.643\n",
      "Epoch 27, CIFAR-10 Batch 1:   Loss: 0.551    Accuracy: 0.645\n",
      "Epoch 27, CIFAR-10 Batch 2:   Loss: 0.487    Accuracy: 0.638\n",
      "Epoch 27, CIFAR-10 Batch 3:   Loss: 0.503    Accuracy: 0.638\n",
      "Epoch 27, CIFAR-10 Batch 4:   Loss: 0.437    Accuracy: 0.638\n",
      "Epoch 27, CIFAR-10 Batch 5:   Loss: 0.473    Accuracy: 0.644\n",
      "Epoch 28, CIFAR-10 Batch 1:   Loss: 0.538    Accuracy: 0.642\n",
      "Epoch 28, CIFAR-10 Batch 2:   Loss: 0.475    Accuracy: 0.637\n",
      "Epoch 28, CIFAR-10 Batch 3:   Loss: 0.471    Accuracy: 0.639\n",
      "Epoch 28, CIFAR-10 Batch 4:   Loss: 0.42     Accuracy: 0.64 \n",
      "Epoch 28, CIFAR-10 Batch 5:   Loss: 0.459    Accuracy: 0.642\n",
      "Epoch 29, CIFAR-10 Batch 1:   Loss: 0.527    Accuracy: 0.639\n",
      "Epoch 29, CIFAR-10 Batch 2:   Loss: 0.466    Accuracy: 0.637\n",
      "Epoch 29, CIFAR-10 Batch 3:   Loss: 0.456    Accuracy: 0.64 \n",
      "Epoch 29, CIFAR-10 Batch 4:   Loss: 0.409    Accuracy: 0.634\n",
      "Epoch 29, CIFAR-10 Batch 5:   Loss: 0.454    Accuracy: 0.639\n",
      "Epoch 30, CIFAR-10 Batch 1:   Loss: 0.52     Accuracy: 0.632\n",
      "Epoch 30, CIFAR-10 Batch 2:   Loss: 0.452    Accuracy: 0.638\n",
      "Epoch 30, CIFAR-10 Batch 3:   Loss: 0.453    Accuracy: 0.633\n",
      "Epoch 30, CIFAR-10 Batch 4:   Loss: 0.425    Accuracy: 0.627\n",
      "Epoch 30, CIFAR-10 Batch 5:   Loss: 0.461    Accuracy: 0.635\n",
      "Epoch 31, CIFAR-10 Batch 1:   Loss: 0.497    Accuracy: 0.633\n",
      "Epoch 31, CIFAR-10 Batch 2:   Loss: 0.46     Accuracy: 0.623\n",
      "Epoch 31, CIFAR-10 Batch 3:   Loss: 0.44     Accuracy: 0.64 \n",
      "Epoch 31, CIFAR-10 Batch 4:   Loss: 0.406    Accuracy: 0.632\n",
      "Epoch 31, CIFAR-10 Batch 5:   Loss: 0.439    Accuracy: 0.635\n",
      "Epoch 32, CIFAR-10 Batch 1:   Loss: 0.488    Accuracy: 0.634\n",
      "Epoch 32, CIFAR-10 Batch 2:   Loss: 0.467    Accuracy: 0.61 \n",
      "Epoch 32, CIFAR-10 Batch 3:   Loss: 0.419    Accuracy: 0.638\n",
      "Epoch 32, CIFAR-10 Batch 4:   Loss: 0.395    Accuracy: 0.635\n",
      "Epoch 32, CIFAR-10 Batch 5:   Loss: 0.414    Accuracy: 0.637\n",
      "Epoch 33, CIFAR-10 Batch 1:   Loss: 0.472    Accuracy: 0.638\n",
      "Epoch 33, CIFAR-10 Batch 2:   Loss: 0.453    Accuracy: 0.606\n",
      "Epoch 33, CIFAR-10 Batch 3:   Loss: 0.414    Accuracy: 0.632\n",
      "Epoch 33, CIFAR-10 Batch 4:   Loss: 0.398    Accuracy: 0.638\n",
      "Epoch 33, CIFAR-10 Batch 5:   Loss: 0.391    Accuracy: 0.641\n",
      "Epoch 34, CIFAR-10 Batch 1:   Loss: 0.52     Accuracy: 0.62 \n",
      "Epoch 34, CIFAR-10 Batch 2:   Loss: 0.416    Accuracy: 0.621\n",
      "Epoch 34, CIFAR-10 Batch 3:   Loss: 0.429    Accuracy: 0.623\n",
      "Epoch 34, CIFAR-10 Batch 4:   Loss: 0.382    Accuracy: 0.636\n",
      "Epoch 34, CIFAR-10 Batch 5:   Loss: 0.378    Accuracy: 0.638\n",
      "Epoch 35, CIFAR-10 Batch 1:   Loss: 0.514    Accuracy: 0.621\n",
      "Epoch 35, CIFAR-10 Batch 2:   Loss: 0.428    Accuracy: 0.633\n",
      "Epoch 35, CIFAR-10 Batch 3:   Loss: 0.406    Accuracy: 0.634\n",
      "Epoch 35, CIFAR-10 Batch 4:   Loss: 0.361    Accuracy: 0.638\n",
      "Epoch 35, CIFAR-10 Batch 5:   Loss: 0.365    Accuracy: 0.639\n",
      "Epoch 36, CIFAR-10 Batch 1:   Loss: 0.485    Accuracy: 0.631\n",
      "Epoch 36, CIFAR-10 Batch 2:   Loss: 0.412    Accuracy: 0.631\n",
      "Epoch 36, CIFAR-10 Batch 3:   Loss: 0.388    Accuracy: 0.633\n",
      "Epoch 36, CIFAR-10 Batch 4:   Loss: 0.353    Accuracy: 0.637\n",
      "Epoch 36, CIFAR-10 Batch 5:   Loss: 0.363    Accuracy: 0.636\n",
      "Epoch 37, CIFAR-10 Batch 1:   Loss: 0.464    Accuracy: 0.636\n",
      "Epoch 37, CIFAR-10 Batch 2:   Loss: 0.369    Accuracy: 0.635\n",
      "Epoch 37, CIFAR-10 Batch 3:   Loss: 0.388    Accuracy: 0.627\n",
      "Epoch 37, CIFAR-10 Batch 4:   Loss: 0.349    Accuracy: 0.633\n",
      "Epoch 37, CIFAR-10 Batch 5:   Loss: 0.351    Accuracy: 0.639\n",
      "Epoch 38, CIFAR-10 Batch 1:   Loss: 0.436    Accuracy: 0.637\n",
      "Epoch 38, CIFAR-10 Batch 2:   Loss: 0.329    Accuracy: 0.637\n",
      "Epoch 38, CIFAR-10 Batch 3:   Loss: 0.374    Accuracy: 0.626\n",
      "Epoch 38, CIFAR-10 Batch 4:   Loss: 0.349    Accuracy: 0.628\n",
      "Epoch 38, CIFAR-10 Batch 5:   Loss: 0.336    Accuracy: 0.639\n",
      "Epoch 39, CIFAR-10 Batch 1:   Loss: 0.416    Accuracy: 0.641\n",
      "Epoch 39, CIFAR-10 Batch 2:   Loss: 0.312    Accuracy: 0.638\n",
      "Epoch 39, CIFAR-10 Batch 3:   Loss: 0.35     Accuracy: 0.627\n",
      "Epoch 39, CIFAR-10 Batch 4:   Loss: 0.34     Accuracy: 0.625\n",
      "Epoch 39, CIFAR-10 Batch 5:   Loss: 0.324    Accuracy: 0.633\n",
      "Epoch 40, CIFAR-10 Batch 1:   Loss: 0.4      Accuracy: 0.638\n",
      "Epoch 40, CIFAR-10 Batch 2:   Loss: 0.305    Accuracy: 0.642\n",
      "Epoch 40, CIFAR-10 Batch 3:   Loss: 0.334    Accuracy: 0.626\n",
      "Epoch 40, CIFAR-10 Batch 4:   Loss: 0.323    Accuracy: 0.629\n",
      "Epoch 40, CIFAR-10 Batch 5:   Loss: 0.316    Accuracy: 0.637\n",
      "Epoch 41, CIFAR-10 Batch 1:   Loss: 0.385    Accuracy: 0.641\n",
      "Epoch 41, CIFAR-10 Batch 2:   Loss: 0.291    Accuracy: 0.638\n",
      "Epoch 41, CIFAR-10 Batch 3:   Loss: 0.319    Accuracy: 0.627\n",
      "Epoch 41, CIFAR-10 Batch 4:   Loss: 0.306    Accuracy: 0.628\n",
      "Epoch 41, CIFAR-10 Batch 5:   Loss: 0.309    Accuracy: 0.637\n",
      "Epoch 42, CIFAR-10 Batch 1:   Loss: 0.372    Accuracy: 0.64 \n",
      "Epoch 42, CIFAR-10 Batch 2:   Loss: 0.285    Accuracy: 0.634\n",
      "Epoch 42, CIFAR-10 Batch 3:   Loss: 0.318    Accuracy: 0.622\n",
      "Epoch 42, CIFAR-10 Batch 4:   Loss: 0.296    Accuracy: 0.632\n",
      "Epoch 42, CIFAR-10 Batch 5:   Loss: 0.304    Accuracy: 0.633\n",
      "Epoch 43, CIFAR-10 Batch 1:   Loss: 0.362    Accuracy: 0.64 \n",
      "Epoch 43, CIFAR-10 Batch 2:   Loss: 0.286    Accuracy: 0.63 \n",
      "Epoch 43, CIFAR-10 Batch 3:   Loss: 0.31     Accuracy: 0.622\n",
      "Epoch 43, CIFAR-10 Batch 4:   Loss: 0.285    Accuracy: 0.626\n",
      "Epoch 43, CIFAR-10 Batch 5:   Loss: 0.309    Accuracy: 0.623\n",
      "Epoch 44, CIFAR-10 Batch 1:   Loss: 0.377    Accuracy: 0.63 \n",
      "Epoch 44, CIFAR-10 Batch 2:   Loss: 0.326    Accuracy: 0.618\n",
      "Epoch 44, CIFAR-10 Batch 3:   Loss: 0.303    Accuracy: 0.626\n",
      "Epoch 44, CIFAR-10 Batch 4:   Loss: 0.272    Accuracy: 0.63 \n",
      "Epoch 44, CIFAR-10 Batch 5:   Loss: 0.312    Accuracy: 0.615\n",
      "Epoch 45, CIFAR-10 Batch 1:   Loss: 0.363    Accuracy: 0.633\n",
      "Epoch 45, CIFAR-10 Batch 2:   Loss: 0.303    Accuracy: 0.618\n",
      "Epoch 45, CIFAR-10 Batch 3:   Loss: 0.317    Accuracy: 0.626\n",
      "Epoch 45, CIFAR-10 Batch 4:   Loss: 0.282    Accuracy: 0.616\n",
      "Epoch 45, CIFAR-10 Batch 5:   Loss: 0.292    Accuracy: 0.627\n",
      "Epoch 46, CIFAR-10 Batch 1:   Loss: 0.33     Accuracy: 0.636\n",
      "Epoch 46, CIFAR-10 Batch 2:   Loss: 0.288    Accuracy: 0.621\n",
      "Epoch 46, CIFAR-10 Batch 3:   Loss: 0.314    Accuracy: 0.621\n",
      "Epoch 46, CIFAR-10 Batch 4:   Loss: 0.278    Accuracy: 0.611\n",
      "Epoch 46, CIFAR-10 Batch 5:   Loss: 0.282    Accuracy: 0.634\n",
      "Epoch 47, CIFAR-10 Batch 1:   Loss: 0.313    Accuracy: 0.639\n",
      "Epoch 47, CIFAR-10 Batch 2:   Loss: 0.275    Accuracy: 0.624\n",
      "Epoch 47, CIFAR-10 Batch 3:   Loss: 0.294    Accuracy: 0.622\n",
      "Epoch 47, CIFAR-10 Batch 4:   Loss: 0.261    Accuracy: 0.617\n",
      "Epoch 47, CIFAR-10 Batch 5:   Loss: 0.281    Accuracy: 0.635\n",
      "Epoch 48, CIFAR-10 Batch 1:   Loss: 0.316    Accuracy: 0.64 \n",
      "Epoch 48, CIFAR-10 Batch 2:   Loss: 0.255    Accuracy: 0.633\n",
      "Epoch 48, CIFAR-10 Batch 3:   Loss: 0.271    Accuracy: 0.624\n",
      "Epoch 48, CIFAR-10 Batch 4:   Loss: 0.249    Accuracy: 0.622\n",
      "Epoch 48, CIFAR-10 Batch 5:   Loss: 0.271    Accuracy: 0.636\n",
      "Epoch 49, CIFAR-10 Batch 1:   Loss: 0.314    Accuracy: 0.634\n",
      "Epoch 49, CIFAR-10 Batch 2:   Loss: 0.249    Accuracy: 0.636\n",
      "Epoch 49, CIFAR-10 Batch 3:   Loss: 0.256    Accuracy: 0.623\n",
      "Epoch 49, CIFAR-10 Batch 4:   Loss: 0.238    Accuracy: 0.627\n",
      "Epoch 49, CIFAR-10 Batch 5:   Loss: 0.261    Accuracy: 0.633\n",
      "Epoch 50, CIFAR-10 Batch 1:   Loss: 0.312    Accuracy: 0.634\n",
      "Epoch 50, CIFAR-10 Batch 2:   Loss: 0.245    Accuracy: 0.635\n",
      "Epoch 50, CIFAR-10 Batch 3:   Loss: 0.241    Accuracy: 0.627\n",
      "Epoch 50, CIFAR-10 Batch 4:   Loss: 0.226    Accuracy: 0.626\n",
      "Epoch 50, CIFAR-10 Batch 5:   Loss: 0.257    Accuracy: 0.627\n"
     ]
    }
   ],
   "source": [
    "\"\"\"\n",
    "DON'T MODIFY ANYTHING IN THIS CELL\n",
    "\"\"\"\n",
    "save_model_path = './image_classification'\n",
    "\n",
    "print('Training...')\n",
    "with tf.Session() as sess:\n",
    "    # Initializing the variables\n",
    "    sess.run(tf.global_variables_initializer())\n",
    "    \n",
    "    # Training cycle\n",
    "    for epoch in range(epochs):\n",
    "        # Loop over all batches\n",
    "        n_batches = 5\n",
    "        for batch_i in range(1, n_batches + 1):\n",
    "            for batch_features, batch_labels in helper.load_preprocess_training_batch(batch_i, batch_size):\n",
    "                train_neural_network(sess, optimizer, keep_probability, batch_features, batch_labels)\n",
    "            print('Epoch {:>2}, CIFAR-10 Batch {}:  '.format(epoch + 1, batch_i), end='')\n",
    "            print_stats(sess, batch_features, batch_labels, cost, accuracy)\n",
    "            \n",
    "    # Save Model\n",
    "    saver = tf.train.Saver()\n",
    "    save_path = saver.save(sess, save_model_path)"
   ]
  },
  {
   "cell_type": "markdown",
   "metadata": {},
   "source": [
    "# Checkpoint\n",
    "The model has been saved to disk.\n",
    "## Test Model\n",
    "Test your model against the test dataset.  This will be your final accuracy. You should have an accuracy greater than 50%. If you don't, keep tweaking the model architecture and parameters."
   ]
  },
  {
   "cell_type": "code",
   "execution_count": 70,
   "metadata": {
    "collapsed": false
   },
   "outputs": [
    {
     "name": "stdout",
     "output_type": "stream",
     "text": [
      "Testing Accuracy: 0.6327780336141586\n",
      "\n"
     ]
    },
    {
     "data": {
      "image/png": "[encoded data removed]",
      "text/plain": [
       "<matplotlib.figure.Figure at 0x10ae1a160>"
      ]
     },
     "metadata": {
      "image/png": {
       "height": 319,
       "width": 355
      }
     },
     "output_type": "display_data"
    }
   ],
   "source": [
    "\"\"\"\n",
    "DON'T MODIFY ANYTHING IN THIS CELL\n",
    "\"\"\"\n",
    "%matplotlib inline\n",
    "%config InlineBackend.figure_format = 'retina'\n",
    "\n",
    "import tensorflow as tf\n",
    "import pickle\n",
    "import helper\n",
    "import random\n",
    "\n",
    "# Set batch size if not already set\n",
    "try:\n",
    "    if batch_size:\n",
    "        pass\n",
    "except NameError:\n",
    "    batch_size = 64\n",
    "\n",
    "save_model_path = './image_classification'\n",
    "n_samples = 4\n",
    "top_n_predictions = 3\n",
    "\n",
    "def test_model():\n",
    "    \"\"\"\n",
    "    Test the saved model against the test dataset\n",
    "    \"\"\"\n",
    "\n",
    "    test_features, test_labels = pickle.load(open('preprocess_test.p', mode='rb'))\n",
    "    loaded_graph = tf.Graph()\n",
    "\n",
    "    with tf.Session(graph=loaded_graph) as sess:\n",
    "        # Load model\n",
    "        loader = tf.train.import_meta_graph(save_model_path + '.meta')\n",
    "        loader.restore(sess, save_model_path)\n",
    "\n",
    "        # Get Tensors from loaded model\n",
    "        loaded_x = loaded_graph.get_tensor_by_name('x:0')\n",
    "        loaded_y = loaded_graph.get_tensor_by_name('y:0')\n",
    "        loaded_keep_prob = loaded_graph.get_tensor_by_name('keep_prob:0')\n",
    "        loaded_logits = loaded_graph.get_tensor_by_name('logits:0')\n",
    "        loaded_acc = loaded_graph.get_tensor_by_name('accuracy:0')\n",
    "        \n",
    "        # Get accuracy in batches for memory limitations\n",
    "        test_batch_acc_total = 0\n",
    "        test_batch_count = 0\n",
    "        \n",
    "        for test_feature_batch, test_label_batch in helper.batch_features_labels(test_features, test_labels, batch_size):\n",
    "            test_batch_acc_total += sess.run(\n",
    "                loaded_acc,\n",
    "                feed_dict={loaded_x: test_feature_batch, loaded_y: test_label_batch, loaded_keep_prob: 1.0})\n",
    "            test_batch_count += 1\n",
    "\n",
    "        print('Testing Accuracy: {}\\n'.format(test_batch_acc_total/test_batch_count))\n",
    "\n",
    "        # Print Random Samples\n",
    "        random_test_features, random_test_labels = tuple(zip(*random.sample(list(zip(test_features, test_labels)), n_samples)))\n",
    "        random_test_predictions = sess.run(\n",
    "            tf.nn.top_k(tf.nn.softmax(loaded_logits), top_n_predictions),\n",
    "            feed_dict={loaded_x: random_test_features, loaded_y: random_test_labels, loaded_keep_prob: 1.0})\n",
    "        helper.display_image_predictions(random_test_features, random_test_labels, random_test_predictions)\n",
    "\n",
    "\n",
    "test_model()"
   ]
  },
  {
   "cell_type": "markdown",
   "metadata": {},
   "source": [
    "## Why 50-80% Accuracy?\n",
    "You might be wondering why you can't get an accuracy any higher. First things first, 50% isn't bad for a simple CNN.  Pure guessing would get you 10% accuracy. However, you might notice people are getting scores [well above 80%](http://rodrigob.github.io/are_we_there_yet/build/classification_datasets_results.html#43494641522d3130).  That's because we haven't taught you all there is to know about neural networks. We still need to cover a few more techniques.\n",
    "## Submitting This Project\n",
    "When submitting this project, make sure to run all the cells before saving the notebook.  Save the notebook file as \"dlnd_image_classification.ipynb\" and save it as a HTML file under \"File\" -> \"Download as\".  Include the \"helper.py\" and \"problem_unittests.py\" files in your submission."
   ]
  }
 ],
 "metadata": {
  "kernelspec": {
   "display_name": "Python 3",
   "language": "python",
   "name": "python3"
  },
  "language_info": {
   "codemirror_mode": {
    "name": "ipython",
    "version": 3
   },
   "file_extension": ".py",
   "mimetype": "text/x-python",
   "name": "python",
   "nbconvert_exporter": "python",
   "pygments_lexer": "ipython3",
   "version": "3.5.3"
  }
 },
 "nbformat": 4,
 "nbformat_minor": 0
}
